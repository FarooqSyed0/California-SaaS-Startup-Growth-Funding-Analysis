{
 "cells": [
  {
   "cell_type": "code",
   "execution_count": 1,
   "id": "0587e4e1-123e-4654-98cc-e089295196fb",
   "metadata": {},
   "outputs": [
    {
     "name": "stdout",
     "output_type": "stream",
     "text": [
      "Hellow, world!\n"
     ]
    }
   ],
   "source": [
    "print('Hellow, world!')"
   ]
  },
  {
   "cell_type": "code",
   "execution_count": null,
   "id": "1494b58e-48e1-4d40-a047-81120f03ac42",
   "metadata": {},
   "outputs": [],
   "source": []
  }
 ],
 "metadata": {
  "kernelspec": {
   "display_name": "Python [conda env:base] *",
   "language": "python",
   "name": "conda-base-py"
  },
  "language_info": {
   "codemirror_mode": {
    "name": "ipython",
    "version": 3
   },
   "file_extension": ".py",
   "mimetype": "text/x-python",
   "name": "python",
   "nbconvert_exporter": "python",
   "pygments_lexer": "ipython3",
   "version": "3.12.7"
  }
 },
 "nbformat": 4,
 "nbformat_minor": 5
}
